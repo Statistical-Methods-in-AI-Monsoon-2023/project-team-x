{
 "cells": [
  {
   "cell_type": "code",
   "execution_count": 2,
   "metadata": {},
   "outputs": [
    {
     "name": "stdout",
     "output_type": "stream",
     "text": [
      "Manim Community \u001b[32mv0.\u001b[0m\u001b[32m18.0\u001b[0m\n",
      "\n",
      "Traceback (most recent call last):\n",
      "  File \"/home/akshat/.local/bin/manim\", line 8, in <module>\n",
      "    sys.exit(main())\n",
      "  File \"/home/akshat/.local/lib/python3.8/site-packages/click/core.py\", line 1157, in __call__\n",
      "    return self.main(*args, **kwargs)\n",
      "  File \"/home/akshat/.local/lib/python3.8/site-packages/click/core.py\", line 1078, in main\n",
      "    rv = self.invoke(ctx)\n",
      "  File \"/home/akshat/.local/lib/python3.8/site-packages/click/core.py\", line 1688, in invoke\n",
      "    return _process_result(sub_ctx.command.invoke(sub_ctx))\n",
      "  File \"/home/akshat/.local/lib/python3.8/site-packages/click/core.py\", line 1434, in invoke\n",
      "    return ctx.invoke(self.callback, **ctx.params)\n",
      "  File \"/home/akshat/.local/lib/python3.8/site-packages/click/core.py\", line 783, in invoke\n",
      "    return __callback(*args, **kwargs)\n",
      "  File \"/home/akshat/.local/lib/python3.8/site-packages/manim/cli/render/commands.py\", line 111, in render\n",
      "    for SceneClass in scene_classes_from_file(file):\n",
      "  File \"/home/akshat/.local/lib/python3.8/site-packages/manim/utils/module_ops.py\", line 129, in scene_classes_from_file\n",
      "    module = get_module(file_path)\n",
      "  File \"/home/akshat/.local/lib/python3.8/site-packages/manim/utils/module_ops.py\", line 39, in get_module\n",
      "    raise ValueError(f\"{file_name} is not a valid Manim python script.\")\n",
      "ValueError: /home/akshat/manim/1.ipynb is not a valid Manim python script.\n"
     ]
    }
   ],
   "source": [
    "from manim import *\n",
    "\n",
    "# now making a class for the 3d animation\n",
    "\n",
    "class ThreeDAnimation(ThreeDScene):\n",
    "    def construct(self):\n",
    "        axes = ThreeDAxes()\n",
    "        self.set_camera_orientation(phi=75 * DEGREES, theta=30 * DEGREES)\n",
    "        self.add(axes)\n",
    "        sphere = Sphere()\n",
    "        self.play(Create(sphere))\n",
    "        self.wait(1)\n",
    "        self.play(FadeOut(sphere))\n",
    "        self.wait(1)\n",
    "\n",
    "        # now we create a 3d gaussian surface\n",
    "        gaussian_surface = Surface(\n",
    "            lambda u, v: np.array([\n",
    "                1.5 * np.cos(u) * np.cos(v),\n",
    "                1.5 * np.cos(u) * np.sin(v),\n",
    "                1.5 * np.sin(u)\n",
    "            ]), resolution=(6, 32)).fade(0.5)\n",
    "        self.play(Create(gaussian_surface))\n",
    "        self.wait(1)\n",
    "        self.play(FadeOut(gaussian_surface))\n",
    "        self.wait(1)\n",
    "        # the error says that parametric surface is not defined\n",
    "        # so we need to import it, by using the following command\n",
    "        # from manim import *, the version of manim is 0.8.0\n",
    "\n",
    "!manim 1.ipynb ThreeDAnimation -pql"
   ]
  }
 ],
 "metadata": {
  "kernelspec": {
   "display_name": "Python 3",
   "language": "python",
   "name": "python3"
  },
  "language_info": {
   "codemirror_mode": {
    "name": "ipython",
    "version": 3
   },
   "file_extension": ".py",
   "mimetype": "text/x-python",
   "name": "python",
   "nbconvert_exporter": "python",
   "pygments_lexer": "ipython3",
   "version": "3.8.10"
  }
 },
 "nbformat": 4,
 "nbformat_minor": 2
}
