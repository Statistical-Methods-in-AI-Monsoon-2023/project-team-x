{
 "cells": [
  {
   "cell_type": "code",
   "execution_count": 2,
   "metadata": {},
   "outputs": [
    {
     "name": "stdout",
     "output_type": "stream",
     "text": [
      "Manim Community \u001b[32mv0.\u001b[0m\u001b[32m18.0\u001b[0m\n",
      "\n",
      "Traceback (most recent call last):\n",
      "  File \"/home/akshat/.local/bin/manim\", line 8, in <module>\n",
      "    sys.exit(main())\n",
      "  File \"/home/akshat/.local/lib/python3.8/site-packages/click/core.py\", line 1157, in __call__\n",
      "    return self.main(*args, **kwargs)\n",
      "  File \"/home/akshat/.local/lib/python3.8/site-packages/click/core.py\", line 1078, in main\n",
      "    rv = self.invoke(ctx)\n",
      "  File \"/home/akshat/.local/lib/python3.8/site-packages/click/core.py\", line 1688, in invoke\n",
      "    return _process_result(sub_ctx.command.invoke(sub_ctx))\n",
      "  File \"/home/akshat/.local/lib/python3.8/site-packages/click/core.py\", line 1434, in invoke\n",
      "    return ctx.invoke(self.callback, **ctx.params)\n",
      "  File \"/home/akshat/.local/lib/python3.8/site-packages/click/core.py\", line 783, in invoke\n",
      "    return __callback(*args, **kwargs)\n",
      "  File \"/home/akshat/.local/lib/python3.8/site-packages/manim/cli/render/commands.py\", line 111, in render\n",
      "    for SceneClass in scene_classes_from_file(file):\n",
      "  File \"/home/akshat/.local/lib/python3.8/site-packages/manim/utils/module_ops.py\", line 129, in scene_classes_from_file\n",
      "    module = get_module(file_path)\n",
      "  File \"/home/akshat/.local/lib/python3.8/site-packages/manim/utils/module_ops.py\", line 39, in get_module\n",
      "    raise ValueError(f\"{file_name} is not a valid Manim python script.\")\n",
      "ValueError: /home/akshat/project-team-x/manimWebExploration/pyManim/manim/1.ipynb is not a valid Manim python script.\n"
     ]
    }
   ],
   "source": [
    "from manim import *\n",
    "\n",
    "class UpdateGaussian(Scene):\n",
    "    def construct(self):\n",
    "        # Create a Gaussian distribution graph\n",
    "        axes = Axes(\n",
    "            x_range=[-5, 5, 1],\n",
    "            y_range=[0, 0.4, 0.1],\n",
    "            axis_config={\"color\": BLUE},\n",
    "        )\n",
    "        gaussian_graph = axes.plot(lambda x: 0.1 * np.exp(-0.5 * x**2), color=YELLOW)\n",
    "        mean_label = axes.get_x_axis_label(\"Mean\")\n",
    "        std_dev_label = axes.get_y_axis_label(\"Probability Density\")\n",
    "\n",
    "        # Animation function to update the mean of the Gaussian\n",
    "        def update_gaussian(graph, dt):\n",
    "            new_mean = graph.get_center()[0] + 0.1 * np.sin(self.time)\n",
    "            graph.set_function(lambda x: 0.1 * np.exp(-0.5 * (x - new_mean)**2))\n",
    "            mean_label.set_text(f\"Mean: {new_mean:.2f}\")\n",
    "\n",
    "        # Apply the animation to continuously update the mean\n",
    "        gaussian_graph.add_updater(update_gaussian)\n",
    "\n",
    "        # Create a continuous animation\n",
    "        self.play(Create(axes), Create(gaussian_graph), Write(mean_label), Write(std_dev_label))\n",
    "        self.wait(5)  # Wait for 5 seconds while the animation runs\n",
    "\n",
    "# Run the Manim render command\n",
    "!manim 1.ipynb ThreeDAnimation -pql\n"
   ]
  }
 ],
 "metadata": {
  "kernelspec": {
   "display_name": "Python 3",
   "language": "python",
   "name": "python3"
  },
  "language_info": {
   "codemirror_mode": {
    "name": "ipython",
    "version": 3
   },
   "file_extension": ".py",
   "mimetype": "text/x-python",
   "name": "python",
   "nbconvert_exporter": "python",
   "pygments_lexer": "ipython3",
   "version": "3.8.10"
  }
 },
 "nbformat": 4,
 "nbformat_minor": 2
}
